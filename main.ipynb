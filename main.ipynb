{
  "nbformat": 4,
  "nbformat_minor": 0,
  "metadata": {
    "colab": {
      "provenance": []
    },
    "kernelspec": {
      "name": "python3",
      "display_name": "Python 3"
    },
    "language_info": {
      "name": "python"
    }
  },
  "cells": [
    {
      "cell_type": "code",
      "source": [
        "from google.colab import drive\n",
        "drive.mount('/content/gdrive')"
      ],
      "metadata": {
        "colab": {
          "base_uri": "https://localhost:8080/"
        },
        "id": "vO6-6h0ntjRo",
        "outputId": "f51e1976-4ec8-40de-c59a-cc0004d459be"
      },
      "execution_count": null,
      "outputs": [
        {
          "output_type": "stream",
          "name": "stdout",
          "text": [
            "Drive already mounted at /content/gdrive; to attempt to forcibly remount, call drive.mount(\"/content/gdrive\", force_remount=True).\n"
          ]
        }
      ]
    },
    {
      "cell_type": "code",
      "source": [
        "!ls '/content/gdrive/Othercomputers/My Laptop/fcc-sea-level-predictor-master'"
      ],
      "metadata": {
        "colab": {
          "base_uri": "https://localhost:8080/"
        },
        "id": "2Z3tGWrVtlmm",
        "outputId": "7aa80bb2-291b-48ee-aecd-5cc00c61e75f"
      },
      "execution_count": null,
      "outputs": [
        {
          "output_type": "stream",
          "name": "stdout",
          "text": [
            "epa-sea-level.csv  poetry.lock\t   README.md\t\t   test_module.py\n",
            "main.ipynb\t   __pycache__\t   sea_level_plot.png\t   _test_runner.py\n",
            "main.py\t\t   pyproject.toml  sea_level_predictor.py\n"
          ]
        }
      ]
    },
    {
      "cell_type": "code",
      "source": [
        "%cd '/content/gdrive/Othercomputers/My Laptop/fcc-sea-level-predictor-master'"
      ],
      "metadata": {
        "colab": {
          "base_uri": "https://localhost:8080/"
        },
        "id": "pPjROlYZtxL_",
        "outputId": "8d1d2238-a951-4376-f65c-d187a149caad"
      },
      "execution_count": null,
      "outputs": [
        {
          "output_type": "stream",
          "name": "stdout",
          "text": [
            "/content/gdrive/Othercomputers/My Laptop/fcc-sea-level-predictor-master\n"
          ]
        }
      ]
    },
    {
      "cell_type": "code",
      "source": [
        "import pandas as pd\n",
        "import matplotlib.pyplot as plt\n",
        "from scipy.stats import linregress\n",
        "import numpy as np\n",
        "\n",
        "def draw_plot():\n",
        "    # Read data from file\n",
        "    df = pd.read_csv('epa-sea-level.csv')\n",
        "\n",
        "    # Create scatter plot\n",
        "    plt.scatter(df['Year'], df['CSIRO Adjusted Sea Level'])\n",
        "\n",
        "    # Create first line of best fit\n",
        "    lineA = linregress(df['Year'], df['CSIRO Adjusted Sea Level'])\n",
        "    xA = np.arange(df['Year'].min(),2050,1)\n",
        "    yA = xA*lineA.slope + lineA.intercept\n",
        "\n",
        "    plt.plot(xA,yA)\n",
        "\n",
        "    # Create second line of best fit\n",
        "    df_2000 = df[df['Year'] >= 2000]\n",
        "\n",
        "    lineB = linregress(df_2000['Year'], df_2000['CSIRO Adjusted Sea Level'])\n",
        "    xB = np.arange(2000,2050,1)\n",
        "    yB = xB*lineB.slope + lineB.intercept\n",
        "\n",
        "    plt.plot(xB,yB)\n",
        "\n",
        "    # Add labels and title\n",
        "    plt.xlabel('Year')\n",
        "    plt.ylabel('Sea Level (inches)')\n",
        "    plt.title('Rise in Sea Level')\n",
        "    \n",
        "    # Save plot and return data for testing (DO NOT MODIFY)\n",
        "    plt.savefig('sea_level_plot.png')\n",
        "    return plt.gca()"
      ],
      "metadata": {
        "id": "z5V26SuQssen"
      },
      "execution_count": 27,
      "outputs": []
    },
    {
      "cell_type": "code",
      "source": [
        "\n",
        "draw_plot()\n"
      ],
      "metadata": {
        "colab": {
          "base_uri": "https://localhost:8080/",
          "height": 312
        },
        "id": "IO_0tZPCtAPj",
        "outputId": "58a52834-676b-4ca6-a1ae-56e73a656a4f"
      },
      "execution_count": 29,
      "outputs": [
        {
          "output_type": "execute_result",
          "data": {
            "text/plain": [
              "<matplotlib.axes._subplots.AxesSubplot at 0x7fced1198dd0>"
            ]
          },
          "metadata": {},
          "execution_count": 29
        },
        {
          "output_type": "display_data",
          "data": {
            "text/plain": [
              "<Figure size 432x288 with 1 Axes>"
            ],
            "image/png": "[encoded data removed]"
          },
          "metadata": {
            "needs_background": "light"
          }
        }
      ]
    },
    {
      "cell_type": "code",
      "source": [],
      "metadata": {
        "id": "wY84dil0tH0g"
      },
      "execution_count": null,
      "outputs": []
    }
  ]
}